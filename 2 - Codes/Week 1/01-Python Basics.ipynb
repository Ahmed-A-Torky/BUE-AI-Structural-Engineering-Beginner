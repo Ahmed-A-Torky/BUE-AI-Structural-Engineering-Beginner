{
 "cells": [
  {
   "attachments": {},
   "cell_type": "markdown",
   "metadata": {},
   "source": [
    "<span style=\"font-size: 300%;\">AI Applications in Structural Engineering</span>\n",
    "\n",
    "<span style=\"font-size: 300%;\">Python Tutorial - 01</span>\n",
    "\n",
    "Here you will learn how to start programming in Python.\n",
    "You will learn to:\n",
    "1. Python Programming Basics\n",
    "2. Import Modules\n",
    "3. Create Vectors and Matrices\n",
    "4. ...\n"
   ]
  },
  {
   "attachments": {},
   "cell_type": "markdown",
   "metadata": {},
   "source": [
    "# Python Basics"
   ]
  },
  {
   "cell_type": "code",
   "execution_count": null,
   "metadata": {},
   "outputs": [],
   "source": [
    "# Assigning Input / Printing Output\n",
    "x = 1\n",
    "print(x)\n",
    "# Integer\n",
    "x = 512\n",
    "print(x)\n",
    "# Float\n",
    "x = 1.023482252123\n",
    "print(x)\n",
    "# String\n",
    "word = 'Hello'\n",
    "print(word)"
   ]
  },
  {
   "cell_type": "markdown",
   "metadata": {},
   "source": [
    "# Lists"
   ]
  },
  {
   "cell_type": "code",
   "execution_count": null,
   "metadata": {},
   "outputs": [],
   "source": [
    "List1 = ['a','b','c','d']\n",
    "print(List1)\n",
    "List2 = ['1','2','3','4']\n",
    "print(List2)\n",
    "List3 = [1,2,3,4]\n",
    "print(List3)\n",
    "List4 = [1.,2,3.,4]\n",
    "print(List4)"
   ]
  },
  {
   "cell_type": "markdown",
   "metadata": {},
   "source": [
    "# Dictionary"
   ]
  },
  {
   "cell_type": "code",
   "execution_count": null,
   "metadata": {},
   "outputs": [],
   "source": [
    "Dict1 = {'name':'Ahmed'}\n",
    "print(Dict1.keys())\n",
    "print(Dict1['name'])\n",
    "\n",
    "Dict2 = {'Person1':{'name':'Ahmed','age':'20'}}\n",
    "print(Dict2.keys())\n",
    "print(Dict2['Person1'])\n",
    "print(Dict2['Person1'][\"name\"])"
   ]
  },
  {
   "cell_type": "markdown",
   "metadata": {},
   "source": [
    "# Vectors and Matrices"
   ]
  },
  {
   "cell_type": "code",
   "execution_count": null,
   "metadata": {},
   "outputs": [],
   "source": [
    "# Vector - 1D\n",
    "v = [1, 2, 3]\n",
    "print(v)"
   ]
  },
  {
   "cell_type": "code",
   "execution_count": null,
   "metadata": {},
   "outputs": [],
   "source": [
    "# Vector - 2D (Matrix)\n",
    "m = [[1, 2, 3], [4, 5, 6], [7, 8, 9]]\n",
    "print(m)\n",
    "print(m[0][2])"
   ]
  },
  {
   "cell_type": "markdown",
   "metadata": {},
   "source": [
    "# Simple Operations"
   ]
  },
  {
   "cell_type": "code",
   "execution_count": null,
   "metadata": {},
   "outputs": [],
   "source": [
    "# Arithmatic Operations\n",
    "x = 3\n",
    "y = 2\n",
    "print(x + y)\n",
    "print(x - y)\n",
    "print(x * y)\n",
    "print(x / y)"
   ]
  },
  {
   "cell_type": "markdown",
   "metadata": {},
   "source": [
    "# Control statements\n",
    "- Like other languages, branching/repeating control statements such as if, for, and while can be used\n",
    "- However, it is better not to use repeated sentences as much as possible (reason will be described later)\n",
    "## if - elif - else statements"
   ]
  },
  {
   "cell_type": "code",
   "execution_count": null,
   "metadata": {},
   "outputs": [],
   "source": [
    "x1 = 1\n",
    "x2 = 2\n",
    "if x1 < x2:\n",
    "    print('x1 is less than x2')\n",
    "elif x1 == x2:\n",
    "    print('x1 is equal to x2')\n",
    "else:\n",
    "    print('x1 is greater than x2')"
   ]
  },
  {
   "cell_type": "code",
   "execution_count": null,
   "metadata": {},
   "outputs": [],
   "source": [
    "s = 'test'\n",
    "if s == 'test':\n",
    "    print('s is \\'test\\'')\n",
    "else:\n",
    "    print('s is not \\'test\\'')"
   ]
  },
  {
   "cell_type": "code",
   "execution_count": null,
   "metadata": {},
   "outputs": [],
   "source": [
    "c1 = 1\n",
    "c2 = 2\n",
    "if c1 == 1 and c2 == 2:\n",
    "    print('c1 is 1 and c2 is 2')\n",
    "else:\n",
    "    print('c1 is not 1 and / or c2 is not 2')"
   ]
  },
  {
   "cell_type": "markdown",
   "metadata": {},
   "source": [
    "## for loops"
   ]
  },
  {
   "cell_type": "code",
   "execution_count": null,
   "metadata": {},
   "outputs": [],
   "source": [
    "a = [0, 1, 2, 3]\n",
    "for i in a:\n",
    "    print(i)"
   ]
  },
  {
   "cell_type": "code",
   "execution_count": null,
   "metadata": {},
   "outputs": [],
   "source": [
    "for i in range(4):\n",
    "    print(i)"
   ]
  },
  {
   "cell_type": "code",
   "execution_count": null,
   "metadata": {},
   "outputs": [],
   "source": [
    "a = ['a', 'b', 'c', 'd']\n",
    "for i, j in enumerate(a):\n",
    "    print('a[' + str(i) + '] = ' + j)"
   ]
  },
  {
   "cell_type": "markdown",
   "metadata": {},
   "source": [
    "## while loops"
   ]
  },
  {
   "cell_type": "code",
   "execution_count": null,
   "metadata": {},
   "outputs": [],
   "source": [
    "a = 0\n",
    "while a < 10:\n",
    "    print(a)\n",
    "    a = a + 1"
   ]
  },
  {
   "cell_type": "markdown",
   "metadata": {},
   "source": [
    "## Exercise\n",
    "Do this"
   ]
  },
  {
   "cell_type": "code",
   "execution_count": null,
   "metadata": {},
   "outputs": [],
   "source": [
    "a = 0\n",
    "while a < 10:\n",
    "    print(a)\n",
    "    a = a + 1"
   ]
  }
 ],
 "metadata": {
  "kernelspec": {
   "display_name": "Python 3",
   "language": "python",
   "name": "python3"
  },
  "language_info": {
   "codemirror_mode": {
    "name": "ipython",
    "version": 3
   },
   "file_extension": ".py",
   "mimetype": "text/x-python",
   "name": "python",
   "nbconvert_exporter": "python",
   "pygments_lexer": "ipython3",
   "version": "3.9.13"
  },
  "toc": {
   "base_numbering": 1,
   "nav_menu": {},
   "number_sections": true,
   "sideBar": true,
   "skip_h1_title": false,
   "title_cell": "Table of Contents",
   "title_sidebar": "Contents",
   "toc_cell": false,
   "toc_position": {},
   "toc_section_display": true,
   "toc_window_display": true
  }
 },
 "nbformat": 4,
 "nbformat_minor": 2
}
