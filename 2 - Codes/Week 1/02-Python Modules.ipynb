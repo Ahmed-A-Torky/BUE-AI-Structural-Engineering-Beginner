{
 "cells": [
  {
   "attachments": {},
   "cell_type": "markdown",
   "metadata": {},
   "source": [
    "<span style=\"font-size: 300%;\">AI Applications in Structural Engineering</span>\n",
    "\n",
    "<span style=\"font-size: 300%;\">Python Tutorial - 02</span>\n",
    "\n",
    "Here you will learn how to start programming in Python.\n",
    "You will learn to:\n",
    "1. Import Numpy\n",
    "2. Import Pandas\n",
    "3. Import Matplotlib\n",
    "4. Other information\n",
    "\n",
    "This is followed by exercises!"
   ]
  },
  {
   "cell_type": "markdown",
   "metadata": {},
   "source": [
    "# Importing libraries\n",
    "- This time, we introduce built-in four arithmetic operations and the most basic libraries numpy, pandas, matplotlib\n",
    "- Also, try to compare the time of matrix calculation by solid repetition sentence and calculation using library\n",
    "- Note that this doesn't mean you can use Python at will!\n",
    "\n",
    "# New Module/Library: **Numpy**"
   ]
  },
  {
   "cell_type": "code",
   "execution_count": 1,
   "metadata": {},
   "outputs": [],
   "source": [
    "import numpy as np\n",
    "import pandas as pd\n",
    "import time\n",
    "import matplotlib.pyplot as plt\n",
    "%matplotlib inline\n",
    "plt.rcParams['font.size'] = 18"
   ]
  },
  {
   "attachments": {},
   "cell_type": "markdown",
   "metadata": {},
   "source": [
    "# Vector and matrix operations using numpy library\n",
    "- A library that conveniently handles \"arrays (vectors/matrices)\" in a mathematical sense\n",
    "- Required when doing machine learning with Python\n",
    "- In addition to linear algebra functions, various mathematical operations are included"
   ]
  },
  {
   "attachments": {},
   "cell_type": "markdown",
   "metadata": {},
   "source": [
    "## VECTORS"
   ]
  },
  {
   "cell_type": "code",
   "execution_count": null,
   "metadata": {},
   "outputs": [],
   "source": [
    "# Vectors\n",
    "v1 = np.array([1, 2, 3])\n",
    "v2 = np.array([4, 5, 6])\n",
    "\n",
    "# Display V1 and V2\n",
    "print(v1)\n",
    "print(v2)"
   ]
  },
  {
   "cell_type": "code",
   "execution_count": null,
   "metadata": {},
   "outputs": [],
   "source": [
    "# Addign Vectors\n",
    "print(v1 + v2)\n",
    "\n",
    "# Subtracting Vectors\n",
    "print(v1 - v2)\n",
    "\n",
    "# Multiply Vectors (Element-wise)\n",
    "print(v1 * v2)\n",
    "\n",
    "# Divide Vectors (Element-wise)\n",
    "print(v1 / v2)\n",
    "\n",
    "# Dot Product\n",
    "print(np.dot(v1, v2))"
   ]
  },
  {
   "attachments": {},
   "cell_type": "markdown",
   "metadata": {},
   "source": [
    "## Martices"
   ]
  },
  {
   "cell_type": "code",
   "execution_count": null,
   "metadata": {},
   "outputs": [],
   "source": [
    "# Assigning Matrices\n",
    "m1 = np.array( [ [1, 2, 3], [4, 5, 6], [7, 8, 9] ] )\n",
    "m2 = np.array([[10, 20, 30], [40, 50, 60], [70, 80, 90]])\n",
    "\n",
    "# Displaying them\n",
    "print(m1)\n",
    "print()\n",
    "print(m2)"
   ]
  },
  {
   "cell_type": "code",
   "execution_count": null,
   "metadata": {},
   "outputs": [],
   "source": [
    "# Adding Matrices\n",
    "print(m1 + m2)\n",
    "print()\n",
    "\n",
    "# Subtracting Matrices\n",
    "print(m1 - m2)\n",
    "print()\n",
    "\n",
    "# Element-wise multiplying Matrices\n",
    "print(m1 * m2)\n",
    "print()\n",
    "\n",
    "# Dividing Matrices\n",
    "print(m1 / m2)\n",
    "print()"
   ]
  },
  {
   "cell_type": "code",
   "execution_count": null,
   "metadata": {},
   "outputs": [],
   "source": [
    "# Transpose\n",
    "print(m1.T)\n",
    "\n",
    "# Dot Product of two Martices\n",
    "print(np.dot(m1, m2))\n",
    "\n",
    "# Inverse a Matrix\n",
    "print(np.linalg.inv(m1))\n",
    "\n",
    "# Get the determinate\n",
    "print(np.linalg.det(m1))\n",
    "\n",
    "# Get the eigen vectors and values\n",
    "print(np.linalg.eig(m1))"
   ]
  },
  {
   "attachments": {},
   "cell_type": "markdown",
   "metadata": {},
   "source": [
    "## Matrix-Vector operations"
   ]
  },
  {
   "cell_type": "code",
   "execution_count": null,
   "metadata": {},
   "outputs": [],
   "source": [
    "print(v1)\n",
    "print(v2)\n",
    "print(m1)\n",
    "print(m2)"
   ]
  },
  {
   "cell_type": "code",
   "execution_count": null,
   "metadata": {},
   "outputs": [],
   "source": [
    "# Vector * Matrix\n",
    "print(np.dot(v1, m1))\n",
    "\n",
    "# Matrix * Vector\n",
    "print(np.dot(m1, v1))"
   ]
  },
  {
   "attachments": {},
   "cell_type": "markdown",
   "metadata": {},
   "source": [
    "# New Module: **Pandas** DataFrame\n",
    "- Library for handling table data conveniently\n",
    "- Richer processing than numpy (DB-like processing)\n",
    "- However, since the internal data is also rich, it is very heavy as data"
   ]
  },
  {
   "attachments": {},
   "cell_type": "markdown",
   "metadata": {},
   "source": [
    "## DataFrame Creation"
   ]
  },
  {
   "cell_type": "code",
   "execution_count": null,
   "metadata": {},
   "outputs": [],
   "source": [
    "df = pd.DataFrame({'Column 1':[1, 2, 3], 'Column 2':['a', 'b', 'c']})\n",
    "df"
   ]
  },
  {
   "attachments": {},
   "cell_type": "markdown",
   "metadata": {},
   "source": [
    "## Reading from files (.csv/.xlsx)"
   ]
  },
  {
   "cell_type": "code",
   "execution_count": null,
   "metadata": {},
   "outputs": [],
   "source": [
    "df = pd.read_csv('sample.csv', encoding='Shift-JIS', index_col=0)\n",
    "df"
   ]
  },
  {
   "attachments": {},
   "cell_type": "markdown",
   "metadata": {},
   "source": [
    "## Extracting the data rows/columns"
   ]
  },
  {
   "cell_type": "code",
   "execution_count": null,
   "metadata": {},
   "outputs": [],
   "source": [
    "# Extract by specifying column name\n",
    "print(df['item1'])\n",
    "\n",
    "# Extract by specifying column names (multiple)\n",
    "print(df.loc[:, ['item2', 'item3']])\n",
    "\n",
    "# Fetch by column index\n",
    "print(df.iloc[:4, [1, 2]])"
   ]
  },
  {
   "cell_type": "code",
   "execution_count": null,
   "metadata": {},
   "outputs": [],
   "source": [
    "# Extract by row name\n",
    "print(df. loc[1, :])\n",
    "\n",
    "# Fetch by row index\n",
    "print(df. iloc[1, :])"
   ]
  },
  {
   "cell_type": "code",
   "execution_count": null,
   "metadata": {},
   "outputs": [],
   "source": [
    "# Extract submatrix by row name/column name\n",
    "print(df.loc[[1, 2], ['item1', 'item2']])\n",
    "\n",
    "# Extract submatrix by row index/column index\n",
    "print(df.iloc[[1, 2], [0, 1]])"
   ]
  },
  {
   "attachments": {},
   "cell_type": "markdown",
   "metadata": {},
   "source": [
    "# New Module: **Matplotlib** for Plotting\n",
    "- Convenient library for visualizing numpy data and pandas data\n",
    "- If you want to draw more beautifully, a library called \"seaborn\" is also useful (matplotlib wrapper)\n",
    "- More convenient than drawing graphs in Excel once you get used to it\n",
    "## Basic graph"
   ]
  },
  {
   "cell_type": "code",
   "execution_count": null,
   "metadata": {},
   "outputs": [],
   "source": [
    "plt.figure(figsize=(16, 10))\n",
    "plt.plot(df.loc[:, ['item2', 'item3']])\n",
    "plt.xlabel('item2')\n",
    "plt.ylabel('item3')"
   ]
  },
  {
   "attachments": {},
   "cell_type": "markdown",
   "metadata": {},
   "source": [
    "# Other information\n",
    "- In python, write code with a policy of not using your own for statement as much as possible\n",
    "- Use inner product and matrix product functions as much as possible for matrix-vector calculations\n",
    "- Use comprehensions or library functions to generate arrays, etc.\n",
    "- Same basic policy as matlab and R\n",
    "\n",
    "## Difference in calculation time depending on matrix calculation method"
   ]
  },
  {
   "cell_type": "code",
   "execution_count": null,
   "metadata": {},
   "outputs": [],
   "source": [
    "mat_size = 100\n",
    "X1 = np.random.random_sample(mat_size**2).reshape(mat_size, mat_size)\n",
    "X2 = np.random.random_sample(mat_size**2).reshape(mat_size, mat_size)"
   ]
  },
  {
   "cell_type": "code",
   "execution_count": null,
   "metadata": {},
   "outputs": [],
   "source": [
    "start = time.time()\n",
    "X = np.dot(X1, X2)\n",
    "print('elapsed_time = ' + str(time.time() - start) + ' sec.')\n",
    "print()\n",
    "print(X)"
   ]
  },
  {
   "cell_type": "code",
   "execution_count": null,
   "metadata": {},
   "outputs": [],
   "source": [
    "start = time.time()\n",
    "X = np.zeros(mat_size**2).reshape(mat_size, mat_size)\n",
    "for i in range(X.shape[0]):\n",
    "    for j in range(X.shape[0]):\n",
    "        \n",
    "        for k in range(X1.shape[1]):\n",
    "            X[i, j] = X[i, j] + X1[i, k] * X2[k, j]\n",
    "print('elapsed_time = ' + str(time.time() - start) + ' sec.')\n",
    "print()\n",
    "print(X)"
   ]
  },
  {
   "attachments": {},
   "cell_type": "markdown",
   "metadata": {},
   "source": [
    "## Comprehension Advantage - Computation Time difference\n",
    "Here we test the difference between making a intrinsic loop to fill a list and appending manualy.\n"
   ]
  },
  {
   "cell_type": "code",
   "execution_count": null,
   "metadata": {},
   "outputs": [],
   "source": [
    "v_size = 10000000\n",
    "v = np.array(range(v_size))\n",
    "\n",
    "\n",
    "start = time.time()\n",
    "l = [i*10 for i in v]\n",
    "print('elapsed_time = ' + str(time.time() - start) + ' sec.')"
   ]
  },
  {
   "cell_type": "code",
   "execution_count": null,
   "metadata": {},
   "outputs": [],
   "source": [
    "start = time.time()\n",
    "l = []\n",
    "for i in range(v_size):\n",
    "    l.append(v[i]*10)\n",
    "print('elapsed_time = ' + str(time.time() - start) + ' sec.')"
   ]
  },
  {
   "cell_type": "markdown",
   "metadata": {},
   "source": [
    "## **Exercises**\n",
    "Do these exercises in the assigned \"hands-on\" time of the class.\n",
    "When answering each question, make sure you add the question number in a comment before code the answer."
   ]
  },
  {
   "cell_type": "code",
   "execution_count": null,
   "metadata": {},
   "outputs": [],
   "source": [
    "# Example\n",
    "# Exercise 0\n",
    "print(\"Hello World\")\n",
    "\n",
    "# Start a new Notebook and type your code there, then submit it to the instructors!"
   ]
  },
  {
   "cell_type": "markdown",
   "metadata": {},
   "source": [
    "### Exercise 1\n",
    "Import and Plot Data: Write a program that imports a CSV file using pandas and plots the data using matplotlib. The program should prompt the user to enter the CSV file name and then use pandas to read the file and matplotlib to plot the data.\n",
    "\n",
    "### Exercise 2\n",
    "Data Analysis: Write a program that performs basic data analysis on a CSV file using pandas. The program should prompt the user to enter the CSV file name and then use pandas to read the file and perform calculations such as **mean**, **median**, **mode**, and **standard deviation**.\n",
    "\n",
    "Note on how to get stats from Pandas:\n",
    "```python\n",
    "mean = df.mean()\n",
    "median = df.median()\n",
    "mode = df.mode().iloc[0]\n",
    "std_dev = df.std()\n",
    "```"
   ]
  }
 ],
 "metadata": {
  "kernelspec": {
   "display_name": "Python 3",
   "language": "python",
   "name": "python3"
  },
  "language_info": {
   "codemirror_mode": {
    "name": "ipython",
    "version": 3
   },
   "file_extension": ".py",
   "mimetype": "text/x-python",
   "name": "python",
   "nbconvert_exporter": "python",
   "pygments_lexer": "ipython3",
   "version": "3.9.13"
  },
  "toc": {
   "base_numbering": 1,
   "nav_menu": {},
   "number_sections": true,
   "sideBar": true,
   "skip_h1_title": false,
   "title_cell": "Table of Contents",
   "title_sidebar": "Contents",
   "toc_cell": false,
   "toc_position": {},
   "toc_section_display": true,
   "toc_window_display": true
  }
 },
 "nbformat": 4,
 "nbformat_minor": 2
}
