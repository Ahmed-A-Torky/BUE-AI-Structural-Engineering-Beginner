{
 "cells": [
  {
   "attachments": {},
   "cell_type": "markdown",
   "metadata": {},
   "source": [
    "<span style=\"font-size: 300%;\">AI Applications in Structural Engineering</span>\n",
    "\n",
    "<span style=\"font-size: 300%;\">Python Tutorial - 03</span>\n",
    "\n",
    "Here you will learn how to make Functions.\n",
    "\n",
    "You will learn to:\n",
    "\n",
    "1. Create Functions\n",
    "2. Create Classes\n"
   ]
  },
  {
   "attachments": {
    "image.png": {
     "image/png": "[encoded data removed]"
    }
   },
   "cell_type": "markdown",
   "metadata": {},
   "source": [
    "# Functions\n",
    "- \n",
    "![image.png](attachment:image.png)"
   ]
  },
  {
   "cell_type": "code",
   "execution_count": null,
   "metadata": {},
   "outputs": [],
   "source": [
    "def hello_work(statement:str)->None:\n",
    "    print(statement)\n",
    "\n",
    "hello_work(\"Hello Peter!\")"
   ]
  },
  {
   "cell_type": "markdown",
   "metadata": {},
   "source": [
    "###  Python function for structural analysis that calculates the moment of inertia of a rectangular cross-section:\n",
    "This function takes two input parameters, b and h, which represent the width and height of the rectangular cross-section, respectively. It uses the formula for the moment of inertia of a rectangular cross-section, which is:\n",
    "\n",
    "$$I = (b * h^3) / 12$$\n",
    "\n",
    "The function calculates the moment of inertia using this formula and returns the result using the return statement.\n",
    "\n",
    "We can call this function with different values of b and h to calculate the moment of inertia for different cross-sections. For example:"
   ]
  },
  {
   "cell_type": "code",
   "execution_count": 28,
   "metadata": {},
   "outputs": [],
   "source": [
    "def moment_of_inertia(b, h):\n",
    "    \"\"\"Calculate the moment of inertia of a rectangular cross-section\"\"\"\n",
    "    I = (b * h**3) / 12\n",
    "    return I"
   ]
  },
  {
   "cell_type": "code",
   "execution_count": 29,
   "metadata": {},
   "outputs": [
    {
     "name": "stdout",
     "output_type": "stream",
     "text": [
      "The moment of inertia is: 6666.666666666667 cm^4\n"
     ]
    }
   ],
   "source": [
    "# Calculate the moment of inertia of a rectangular cross-section with width 10 cm and height 20 cm\n",
    "I = moment_of_inertia(10, 20)\n",
    "print(\"The moment of inertia is:\", I, \"cm^4\")\n",
    "I = moment_of_inertia(--, --)\n",
    "print(\"The moment of inertia is:\", I, \"cm^4\")\n",
    "I = moment_of_inertia(--, --)\n",
    "print(\"The moment of inertia is:\", I, \"cm^4\")"
   ]
  },
  {
   "cell_type": "markdown",
   "metadata": {},
   "source": [
    "# Classes\n",
    "- "
   ]
  },
  {
   "cell_type": "code",
   "execution_count": null,
   "metadata": {},
   "outputs": [],
   "source": [
    "def hello_work(statement:str)->None:\n",
    "    print(statement)\n",
    "\n",
    "hello_work(\"Hello Peter\")"
   ]
  },
  {
   "cell_type": "markdown",
   "metadata": {},
   "source": [
    "###  Python class for structural analysis that calculates the moment of inertia of a rectangular cross-section:\n",
    "This class is called **RectangularCrossSection** and represents a rectangular cross-section. It has two attributes: width and height, which are set in the __init__ method using the self parameter. The __init__ method is a special method called when an object is created from the class.\n",
    "\n",
    "The class also has a method called moment_of_inertia, which calculates the moment of inertia of the rectangular cross-section using the formula:\n",
    "\n",
    "$$I = (b * h^3) / 12$$\n",
    "\n",
    "The self parameter is used to refer to the object itself, so that the width and height attributes can be accessed.\n",
    "\n",
    "We can create a new RectangularCrossSection object with a specific width and height as follows:"
   ]
  },
  {
   "cell_type": "code",
   "execution_count": 30,
   "metadata": {},
   "outputs": [],
   "source": [
    "class RectangularCrossSection:\n",
    "    \"\"\"A class that represents a rectangular cross-section\"\"\"\n",
    "    def __init__(self, width, height):\n",
    "        \"\"\"Initialize a new RectangularCrossSection object with the given width and height\"\"\"\n",
    "        self.width = width\n",
    "        self.height = height\n",
    "    \n",
    "    def moment_of_inertia(self):\n",
    "        \"\"\"Calculate the moment of inertia of the rectangular cross-section\"\"\"\n",
    "        I = (self.width * self.height**3) / 12\n",
    "        return I"
   ]
  },
  {
   "cell_type": "code",
   "execution_count": null,
   "metadata": {},
   "outputs": [],
   "source": [
    "# Create a new RectangularCrossSection object with width 10 cm and height 20 cm\n",
    "section = RectangularCrossSection(10, 20)\n",
    "\n",
    "# Calculate the moment of inertia of the rectangular cross-section\n",
    "I = section.moment_of_inertia()\n",
    "print(\"The moment of inertia is:\", I, \"cm^4\")"
   ]
  },
  {
   "cell_type": "markdown",
   "metadata": {},
   "source": [
    "## **Exercises**\n",
    "Do these exercises in the assigned \"hands-on\" time of the class.\n",
    "When answering each question, make sure you add the question number in a comment before code the answer."
   ]
  },
  {
   "cell_type": "code",
   "execution_count": null,
   "metadata": {},
   "outputs": [],
   "source": [
    "# Example\n",
    "# Exercise 0\n",
    "print(\"Hello World\")\n",
    "\n",
    "# Start a new Notebook and type your code there, then submit it to the instructors!"
   ]
  },
  {
   "cell_type": "markdown",
   "metadata": {},
   "source": [
    "### Exercise 1\n",
    "----\n",
    "\n",
    "### Exercise 2\n",
    "----\n"
   ]
  }
 ],
 "metadata": {
  "kernelspec": {
   "display_name": "Python 3",
   "language": "python",
   "name": "python3"
  },
  "language_info": {
   "codemirror_mode": {
    "name": "ipython",
    "version": 3
   },
   "file_extension": ".py",
   "mimetype": "text/x-python",
   "name": "python",
   "nbconvert_exporter": "python",
   "pygments_lexer": "ipython3",
   "version": "3.9.13"
  },
  "toc": {
   "base_numbering": 1,
   "nav_menu": {},
   "number_sections": true,
   "sideBar": true,
   "skip_h1_title": false,
   "title_cell": "Table of Contents",
   "title_sidebar": "Contents",
   "toc_cell": false,
   "toc_position": {},
   "toc_section_display": true,
   "toc_window_display": true
  }
 },
 "nbformat": 4,
 "nbformat_minor": 2
}
