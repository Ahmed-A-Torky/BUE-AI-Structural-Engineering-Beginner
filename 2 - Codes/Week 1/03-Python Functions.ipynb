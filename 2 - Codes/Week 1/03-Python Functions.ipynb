{
 "cells": [
  {
   "attachments": {},
   "cell_type": "markdown",
   "metadata": {},
   "source": [
    "<span style=\"font-size: 300%;\">AI Applications in Structural Engineering</span>\n",
    "\n",
    "<span style=\"font-size: 300%;\">Python Tutorial - 03</span>\n",
    "\n",
    "Here you will learn how to make Functions.\n",
    "\n",
    "You will learn to:\n",
    "\n",
    "1. Create Functions\n",
    "2. Create Classes\n"
   ]
  },
  {
   "cell_type": "markdown",
   "metadata": {},
   "source": [
    "# Functions\n",
    "- "
   ]
  },
  {
   "cell_type": "code",
   "execution_count": null,
   "metadata": {},
   "outputs": [],
   "source": [
    "def hello_work(statement:str)->None:\n",
    "    print(statement)\n",
    "\n",
    "hello_work(\"Hello Peter\")"
   ]
  },
  {
   "cell_type": "markdown",
   "metadata": {},
   "source": [
    "# Classes\n",
    "- "
   ]
  },
  {
   "cell_type": "code",
   "execution_count": null,
   "metadata": {},
   "outputs": [],
   "source": [
    "def hello_work(statement:str)->None:\n",
    "    print(statement)\n",
    "\n",
    "hello_work(\"Hello Peter\")"
   ]
  },
  {
   "cell_type": "markdown",
   "metadata": {},
   "source": [
    "## **Exercises**\n",
    "Do these exercises in the assigned \"hands-on\" time of the class.\n",
    "When answering each question, make sure you add the question number in a comment before code the answer."
   ]
  },
  {
   "cell_type": "code",
   "execution_count": null,
   "metadata": {},
   "outputs": [],
   "source": [
    "# Example\n",
    "# Exercise 0\n",
    "print(\"Hello World\")\n",
    "\n",
    "# Start a new Notebook and type your code there, then submit it to the instructors!"
   ]
  },
  {
   "cell_type": "markdown",
   "metadata": {},
   "source": [
    "### Exercise 1\n",
    "----\n",
    "\n",
    "### Exercise 2\n",
    "----\n"
   ]
  }
 ],
 "metadata": {
  "kernelspec": {
   "display_name": "Python 3",
   "language": "python",
   "name": "python3"
  },
  "language_info": {
   "codemirror_mode": {
    "name": "ipython",
    "version": 3
   },
   "file_extension": ".py",
   "mimetype": "text/x-python",
   "name": "python",
   "nbconvert_exporter": "python",
   "pygments_lexer": "ipython3",
   "version": "3.9.13"
  },
  "toc": {
   "base_numbering": 1,
   "nav_menu": {},
   "number_sections": true,
   "sideBar": true,
   "skip_h1_title": false,
   "title_cell": "Table of Contents",
   "title_sidebar": "Contents",
   "toc_cell": false,
   "toc_position": {},
   "toc_section_display": true,
   "toc_window_display": true
  }
 },
 "nbformat": 4,
 "nbformat_minor": 2
}
